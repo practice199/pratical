{
  "nbformat": 4,
  "nbformat_minor": 0,
  "metadata": {
    "colab": {
      "provenance": [],
      "toc_visible": true
    },
    "kernelspec": {
      "name": "python3",
      "display_name": "Python 3"
    },
    "language_info": {
      "name": "python"
    }
  },
  "cells": [
    {
      "cell_type": "markdown",
      "source": [
        "# Machine_Learning"
      ],
      "metadata": {
        "id": "sY4IzVbhCIg0"
      }
    },
    {
      "cell_type": "markdown",
      "source": [
        "### Answer 1:\n",
        "Imagine you have a dataset where you have different Instagram features\n",
        "like username , Caption , Hashtag , Followers , Time_Since_posted , and likes , now your task is to predict the number of likes and Time Since posted and the rest of the features are\n",
        "your input features. Now you have to build a model which can predict the\n",
        "number of likes and Time Since posted.\n",
        "This is the Dataset You can use this dataset for this question.\n",
        "https://www.kaggle.com/datasets/rxsraghavagrawal/instagram-reach\n"
      ],
      "metadata": {
        "id": "J-OhKhUeCOmU"
      }
    },
    {
      "cell_type": "code",
      "source": [
        "import pandas as pd\n",
        "from sklearn.model_selection import train_test_split\n",
        "from sklearn.linear_model import LinearRegression\n",
        "from sklearn.metrics import mean_squared_error, mean_absolute_error\n",
        "import re\n",
        "\n",
        "# Load the dataset\n",
        "df = pd.read_csv('instagram_reach.csv')\n",
        "\n",
        "# Preprocess the data\n",
        "# Remove unnecessary columns\n",
        "df = df.drop(['S.No', 'USERNAME', 'Caption', 'Hashtags'], axis=1)\n",
        "\n",
        "# Handle missing values if any\n",
        "df = df.dropna()\n",
        "\n",
        "# Convert \"Time since posted\" column to numeric\n",
        "def extract_numeric_value(time_str):\n",
        "    numeric_str = re.findall(r'\\d+', time_str)[0]\n",
        "    return float(numeric_str)\n",
        "\n",
        "df['Time since posted'] = df['Time since posted'].apply(extract_numeric_value)\n",
        "\n",
        "# Split the dataset into input features (X) and target variables (y)\n",
        "X = df.drop(['Likes', 'Time since posted'], axis=1)\n",
        "y_likes = df['Likes']\n",
        "y_time_since_posted = df['Time since posted']\n",
        "\n",
        "# Split the data into training and testing sets\n",
        "X_train, X_test, y_train_likes, y_test_likes, y_train_time, y_test_time = train_test_split(X, y_likes, y_time_since_posted, test_size=0.2, random_state=42)\n",
        "\n",
        "# Choose a suitable machine learning algorithm (e.g., Linear Regression)\n",
        "model_likes = LinearRegression()\n",
        "model_time_since_posted = LinearRegression()\n",
        "\n",
        "# Train the model on the training data\n",
        "model_likes.fit(X_train, y_train_likes)\n",
        "model_time_since_posted.fit(X_train, y_train_time)\n",
        "\n",
        "# Make predictions on the testing data\n",
        "y_pred_likes = model_likes.predict(X_test)\n",
        "y_pred_time_since_posted = model_time_since_posted.predict(X_test)\n",
        "\n",
        "# Evaluate the model's performance\n",
        "mse_likes = mean_squared_error(y_test_likes, y_pred_likes)\n",
        "mae_likes = mean_absolute_error(y_test_likes, y_pred_likes)\n",
        "\n",
        "mse_time_since_posted = mean_squared_error(y_test_time, y_pred_time_since_posted)\n",
        "mae_time_since_posted = mean_absolute_error(y_test_time, y_pred_time_since_posted)\n",
        "\n",
        "print(\"Likes - Mean Squared Error:\", mse_likes)\n",
        "print(\"Likes - Mean Absolute Error:\", mae_likes)\n",
        "\n",
        "print(\"Time Since Posted - Mean Squared Error:\", mse_time_since_posted)\n",
        "print(\"Time Since Posted - Mean Absolute Error:\", mae_time_since_posted)\n"
      ],
      "metadata": {
        "colab": {
          "base_uri": "https://localhost:8080/"
        },
        "id": "9BVa1RQp3ePk",
        "outputId": "292e2661-65b9-4cf0-c99b-3e2507c79ec4"
      },
      "execution_count": 124,
      "outputs": [
        {
          "output_type": "stream",
          "name": "stdout",
          "text": [
            "Likes - Mean Squared Error: 1177.6386214536167\n",
            "Likes - Mean Absolute Error: 25.50251318640826\n",
            "Time Since Posted - Mean Squared Error: 11.413093536823258\n",
            "Time Since Posted - Mean Absolute Error: 2.1757250175200777\n"
          ]
        }
      ]
    },
    {
      "cell_type": "markdown",
      "source": [
        "### Answer 2:\n",
        " Imagine you have a dataset where you have different features like Age ,Gender , Height , Weight , BMI , and Blood Pressure and you have to classify the people into\n",
        "different classes like Normal , Overweight , Obesity , Underweight , and Extreme Obesity by using\n",
        "any 4 different classification algorithms. Now you have to build a model which\n",
        "can classify people into different classes.\n",
        "https://www.kaggle.com/datasets/ankurbajaj9/obesity-levels \n",
        "This is the Dataset You can use this dataset for this question.\n"
      ],
      "metadata": {
        "id": "A_JXwdLmGi68"
      }
    },
    {
      "cell_type": "code",
      "source": [
        "import pandas as pd\n",
        "\n",
        "# Load the dataset\n",
        "df = pd.read_csv('ObesityDataSet_raw_and_data_sinthetic.csv')\n",
        "\n",
        "# Convert categorical variables into numerical using one-hot encoding\n",
        "df = pd.get_dummies(df, columns=['Gender', 'family_history_with_overweight', 'FAVC', 'CAEC', 'SMOKE', 'SCC', 'CALC', 'MTRANS'])\n",
        "\n",
        "# Binary encoding for the 'NCP' column\n",
        "df['NCP'] = df['NCP'].apply(lambda x: 1 if x == 'yes' else 0)\n",
        "\n",
        "#Split the dataset into training and testing sets\n",
        "X = df.drop('NObeyesdad', axis=1)\n",
        "y = df['NObeyesdad']\n",
        "X_train, X_test, y_train, y_test = train_test_split(X, y, test_size=0.2, random_state=42)\n",
        "\n",
        "# Train Decision Tree classifier\n",
        "dt = DecisionTreeClassifier()\n",
        "dt.fit(X_train, y_train)\n",
        "\n",
        "# Predict on the testing dataset\n",
        "y_pred_dt = dt.predict(X_test)\n",
        "\n",
        "# Evaluate the performance of Decision Tree classifier\n",
        "print(\"Decision Tree Classifier Performance:\")\n",
        "print(\"Confusion Matrix:\")\n",
        "print(confusion_matrix(y_test, y_pred_dt))\n",
        "print(\"Classification Report:\")\n",
        "print(classification_report(y_test, y_pred_dt))\n",
        "print(\"Accuracy:\", accuracy_score(y_test, y_pred_dt))"
      ],
      "metadata": {
        "colab": {
          "base_uri": "https://localhost:8080/"
        },
        "id": "OZ1KbT2JHlqs",
        "outputId": "65d5e1ec-d54d-4595-be73-95e76712272e"
      },
      "execution_count": 11,
      "outputs": [
        {
          "output_type": "stream",
          "name": "stdout",
          "text": [
            "Decision Tree Classifier Performance:\n",
            "Confusion Matrix:\n",
            "[[55  1  0  0  0  0  0]\n",
            " [ 4 55  0  0  0  3  0]\n",
            " [ 0  0 73  4  0  0  1]\n",
            " [ 0  0  2 55  0  0  1]\n",
            " [ 0  0  0  0 63  0  0]\n",
            " [ 0  5  0  0  0 49  2]\n",
            " [ 0  0  0  0  0  2 48]]\n",
            "Classification Report:\n",
            "                     precision    recall  f1-score   support\n",
            "\n",
            "Insufficient_Weight       0.93      0.98      0.96        56\n",
            "      Normal_Weight       0.90      0.89      0.89        62\n",
            "     Obesity_Type_I       0.97      0.94      0.95        78\n",
            "    Obesity_Type_II       0.93      0.95      0.94        58\n",
            "   Obesity_Type_III       1.00      1.00      1.00        63\n",
            " Overweight_Level_I       0.91      0.88      0.89        56\n",
            "Overweight_Level_II       0.92      0.96      0.94        50\n",
            "\n",
            "           accuracy                           0.94       423\n",
            "          macro avg       0.94      0.94      0.94       423\n",
            "       weighted avg       0.94      0.94      0.94       423\n",
            "\n",
            "Accuracy: 0.9408983451536643\n"
          ]
        }
      ]
    },
    {
      "cell_type": "code",
      "source": [
        "# Train Random Forest classifier\n",
        "rf = RandomForestClassifier()\n",
        "rf.fit(X_train, y_train)\n",
        "\n",
        "# Predict on the testing dataset\n",
        "y_pred_rf = rf.predict(X_test)\n",
        "\n",
        "# Evaluate the performance of Random Forest classifier\n",
        "print(\"Random Forest Classifier Performance:\")\n",
        "print(\"Confusion Matrix:\")\n",
        "print(confusion_matrix(y_test, y_pred_rf))\n",
        "print(\"Classification Report:\")\n",
        "print(classification_report(y_test, y_pred_rf))\n",
        "print(\"Accuracy:\", accuracy_score(y_test, y_pred_rf))"
      ],
      "metadata": {
        "colab": {
          "base_uri": "https://localhost:8080/"
        },
        "id": "_Cb2oZt-e5LW",
        "outputId": "bfe8370c-98b5-45d5-d23f-eaa52e53e168"
      },
      "execution_count": 8,
      "outputs": [
        {
          "output_type": "stream",
          "name": "stdout",
          "text": [
            "Random Forest Classifier Performance:\n",
            "Confusion Matrix:\n",
            "[[54  2  0  0  0  0  0]\n",
            " [ 1 57  0  0  0  3  1]\n",
            " [ 0  2 72  2  0  1  1]\n",
            " [ 0  0  1 57  0  0  0]\n",
            " [ 0  0  0  0 63  0  0]\n",
            " [ 0  6  0  0  0 49  1]\n",
            " [ 0  0  0  0  0  2 48]]\n",
            "Classification Report:\n",
            "                     precision    recall  f1-score   support\n",
            "\n",
            "Insufficient_Weight       0.98      0.96      0.97        56\n",
            "      Normal_Weight       0.85      0.92      0.88        62\n",
            "     Obesity_Type_I       0.99      0.92      0.95        78\n",
            "    Obesity_Type_II       0.97      0.98      0.97        58\n",
            "   Obesity_Type_III       1.00      1.00      1.00        63\n",
            " Overweight_Level_I       0.89      0.88      0.88        56\n",
            "Overweight_Level_II       0.94      0.96      0.95        50\n",
            "\n",
            "           accuracy                           0.95       423\n",
            "          macro avg       0.95      0.95      0.95       423\n",
            "       weighted avg       0.95      0.95      0.95       423\n",
            "\n",
            "Accuracy: 0.9456264775413712\n"
          ]
        }
      ]
    },
    {
      "cell_type": "code",
      "source": [
        "# Train Naive Bayes classifier\n",
        "nb = GaussianNB()\n",
        "nb.fit(X_train, y_train)\n",
        "\n",
        "# Predict on the testing dataset\n",
        "y_pred_nb = nb.predict(X_test)\n",
        "\n",
        "# Evaluate the performance ofNaive Bayes classifier\n",
        "print(\"Naive Bayes Classifier Performance:\")\n",
        "print(\"Confusion Matrix:\")\n",
        "print(confusion_matrix(y_test, y_pred_nb))\n",
        "print(\"Classification Report:\")\n",
        "print(classification_report(y_test, y_pred_nb))\n",
        "print(\"Accuracy:\", accuracy_score(y_test, y_pred_nb))"
      ],
      "metadata": {
        "colab": {
          "base_uri": "https://localhost:8080/"
        },
        "id": "UTxDKCXhe5H6",
        "outputId": "a4a6edf6-18bf-4d5b-97da-6906883d12f0"
      },
      "execution_count": 9,
      "outputs": [
        {
          "output_type": "stream",
          "name": "stdout",
          "text": [
            "Naive Bayes Classifier Performance:\n",
            "Confusion Matrix:\n",
            "[[42  0 13  0  0  1  0]\n",
            " [35  8  5  0  1  7  6]\n",
            " [ 0  2 32 37  0  3  4]\n",
            " [ 0  0  0 56  0  0  2]\n",
            " [ 0  0  0  0 63  0  0]\n",
            " [15  2 20  6  0  8  5]\n",
            " [ 2  2 18 13  0  0 15]]\n",
            "Classification Report:\n",
            "                     precision    recall  f1-score   support\n",
            "\n",
            "Insufficient_Weight       0.45      0.75      0.56        56\n",
            "      Normal_Weight       0.57      0.13      0.21        62\n",
            "     Obesity_Type_I       0.36      0.41      0.39        78\n",
            "    Obesity_Type_II       0.50      0.97      0.66        58\n",
            "   Obesity_Type_III       0.98      1.00      0.99        63\n",
            " Overweight_Level_I       0.42      0.14      0.21        56\n",
            "Overweight_Level_II       0.47      0.30      0.37        50\n",
            "\n",
            "           accuracy                           0.53       423\n",
            "          macro avg       0.54      0.53      0.48       423\n",
            "       weighted avg       0.54      0.53      0.49       423\n",
            "\n",
            "Accuracy: 0.5295508274231678\n"
          ]
        }
      ]
    },
    {
      "cell_type": "code",
      "source": [
        "\n",
        "# Train Logistic Regression classifier\n",
        "lr = LogisticRegression()\n",
        "lr.fit(X_train, y_train)\n",
        "\n",
        "# Predict onthe testing dataset\n",
        "y_pred_lr = lr.predict(X_test)\n",
        "\n",
        "# Evaluate the performance of Logistic Regression classifier\n",
        "print(\"Logistic Regression Classifier Performance:\")\n",
        "print(\"Confusion Matrix:\")\n",
        "print(confusion_matrix(y_test, y_pred_lr))\n",
        "print(\"Classification Report:\")\n",
        "print(classification_report(y_test, y_pred_lr))\n",
        "print(\"Accuracy:\", accuracy_score(y_test, y_pred_lr))"
      ],
      "metadata": {
        "colab": {
          "base_uri": "https://localhost:8080/"
        },
        "id": "2n-6XQume5CV",
        "outputId": "fa36e575-ed79-4f37-c30d-64b75b9f6ef1"
      },
      "execution_count": 10,
      "outputs": [
        {
          "output_type": "stream",
          "name": "stdout",
          "text": [
            "Logistic Regression Classifier Performance:\n",
            "Confusion Matrix:\n",
            "[[53  2  0  0  0  1  0]\n",
            " [16 26  1  2  0 11  6]\n",
            " [ 0  0 38 12  6  4 18]\n",
            " [ 0  0  4 53  0  0  1]\n",
            " [ 0  0  0  0 63  0  0]\n",
            " [ 2  4  6  1  0 32 11]\n",
            " [ 0  5 10  3  0  8 24]]\n",
            "Classification Report:\n",
            "                     precision    recall  f1-score   support\n",
            "\n",
            "Insufficient_Weight       0.75      0.95      0.83        56\n",
            "      Normal_Weight       0.70      0.42      0.53        62\n",
            "     Obesity_Type_I       0.64      0.49      0.55        78\n",
            "    Obesity_Type_II       0.75      0.91      0.82        58\n",
            "   Obesity_Type_III       0.91      1.00      0.95        63\n",
            " Overweight_Level_I       0.57      0.57      0.57        56\n",
            "Overweight_Level_II       0.40      0.48      0.44        50\n",
            "\n",
            "           accuracy                           0.68       423\n",
            "          macro avg       0.67      0.69      0.67       423\n",
            "       weighted avg       0.68      0.68      0.67       423\n",
            "\n",
            "Accuracy: 0.6832151300236406\n"
          ]
        },
        {
          "output_type": "stream",
          "name": "stderr",
          "text": [
            "/usr/local/lib/python3.10/dist-packages/sklearn/linear_model/_logistic.py:458: ConvergenceWarning: lbfgs failed to converge (status=1):\n",
            "STOP: TOTAL NO. of ITERATIONS REACHED LIMIT.\n",
            "\n",
            "Increase the number of iterations (max_iter) or scale the data as shown in:\n",
            "    https://scikit-learn.org/stable/modules/preprocessing.html\n",
            "Please also refer to the documentation for alternative solver options:\n",
            "    https://scikit-learn.org/stable/modules/linear_model.html#logistic-regression\n",
            "  n_iter_i = _check_optimize_result(\n"
          ]
        }
      ]
    },
    {
      "cell_type": "markdown",
      "source": [
        "### Answer 3:\n"
      ],
      "metadata": {
        "id": "WFPoLm60fsO_"
      }
    },
    {
      "cell_type": "code",
      "source": [
        "import pandas as pd\n",
        "from sklearn.feature_extraction.text import TfidfVectorizer\n",
        "from sklearn.neighbors import NearestNeighbors\n",
        "\n",
        "# Load the dataset\n",
        "df = pd.read_json('/content/News_Category_Dataset_v3.json', lines=True)\n",
        "\n",
        "# Convert the headline and short_description columns to a single text column\n",
        "df['text'] = df['headline'] + ' ' + df['short_description']\n",
        "\n",
        "# Vectorize the text using TF-IDF\n",
        "vectorizer = TfidfVectorizer(stop_words='english')\n",
        "X = vectorizer.fit_transform(df['text'])\n",
        "\n",
        "# Build a k-nearest neighbors model using cosine similarity\n",
        "knn = NearestNeighbors(metric='cosine')\n",
        "knn.fit(X)\n",
        "\n",
        "# Define a function to find the most similar data to a given data point\n",
        "def find_similar_data(data_point, num_similar=5):\n",
        "    # Vectorize the given data point using the same vectorizer\n",
        "    x_query = vectorizer.transform([data_point])\n",
        "    # Find the k-nearest neighbors based on cosine similarity\n",
        "    distances, indices = knn.kneighbors(x_query, n_neighbors=num_similar)\n",
        "    # Return the most similar data points\n",
        "    return df.iloc[indices[0]]['text']\n",
        "\n",
        "# Example usage\n",
        "query = 'President Biden announces new infrastructure plan'\n",
        "similar_data = find_similar_data(query)\n",
        "similar_data"
      ],
      "metadata": {
        "colab": {
          "base_uri": "https://localhost:8080/"
        },
        "id": "RfL0qQG5e46h",
        "outputId": "8d34e6cf-62a8-4481-992e-8114cdca4d80"
      },
      "execution_count": 23,
      "outputs": [
        {
          "output_type": "execute_result",
          "data": {
            "text/plain": [
              "14467    Trump's New Infrastructure Plan Is Kind Of Und...\n",
              "2675     White House Offers GOP $1.7 Trillion Infrastru...\n",
              "50537    Trump's Infrastructure Plan Dwarfed By Estimat...\n",
              "40282    Trump’s Infrastructure Promise Is Leaving Out ...\n",
              "18511    Donald Trump Prepares To Finally Release His I...\n",
              "Name: text, dtype: object"
            ]
          },
          "metadata": {},
          "execution_count": 23
        }
      ]
    },
    {
      "cell_type": "markdown",
      "source": [
        "### Answer 4:"
      ],
      "metadata": {
        "id": "1qObu5V7iGAU"
      }
    },
    {
      "cell_type": "code",
      "source": [
        "import pandas as pd\n",
        "import numpy as np\n",
        "from sklearn.preprocessing import LabelEncoder, StandardScaler, OneHotEncoder\n",
        "from sklearn.ensemble import RandomForestClassifier, GradientBoostingClassifier, VotingClassifier\n",
        "from sklearn.metrics import accuracy_score, precision_score, recall_score, f1_score\n",
        "from sklearn.model_selection import train_test_split\n",
        "\n",
        "# Load the dataset\n",
        "df = pd.read_csv('online_shoppers_intention.csv')\n",
        "\n",
        "# Preprocess the data\n",
        "le = LabelEncoder()\n",
        "ohe = OneHotEncoder()\n",
        "scaler = StandardScaler()\n",
        "\n",
        "# Encode categorical variables using one-hot encoding\n",
        "df = pd.get_dummies(df, columns=['Month', 'VisitorType'])\n",
        "\n",
        "# Encode the Weekend variable as binary (0 or 1)\n",
        "df['Weekend'] = le.fit_transform(df['Weekend'])\n",
        "\n",
        "# Scale numerical variables\n",
        "df[['Administrative', 'Administrative_Duration', 'Informational', 'Informational_Duration', 'ProductRelated', 'ProductRelated_Duration', 'BounceRates', 'ExitRates', 'PageValues']] = scaler.fit_transform(df[['Administrative', 'Administrative_Duration', 'Informational', 'Informational_Duration', 'ProductRelated', 'ProductRelated_Duration', 'BounceRates', 'ExitRates', 'PageValues']])\n",
        "\n",
        "# Split the data into training and testing sets\n",
        "X = df.drop(['Revenue'], axis=1)\n",
        "y = df['Revenue']\n",
        "X_train, X_test, y_train, y_test = train_test_split(X, y, test_size=0.2, random_state=42)\n",
        "\n",
        "# Define a set of base classifiers\n",
        "clf_rf = RandomForestClassifier()\n",
        "clf_gb = GradientBoostingClassifier()\n",
        "\n",
        "# Train the base classifiers on the training set\n",
        "clf_rf.fit(X_train, y_train)\n",
        "clf_gb.fit(X_train, y_train)\n",
        "\n",
        "# Use the base classifiers to make predictions on the testing set\n",
        "y_pred_rf = clf_rf.predict(X_test)\n",
        "y_pred_gb = clf_gb.predict(X_test)\n",
        "\n",
        "# Combine the predictions using an ensemble voting classifier\n",
        "ensemble = VotingClassifier(estimators=[('rf', clf_rf), ('gb', clf_gb)], voting='hard')\n",
        "ensemble.fit(X_train, y_train)\n",
        "y_pred_ensemble = ensemble.predict(X_test)\n",
        "\n",
        "# Evaluate the performance of the ensemble model\n",
        "print('Random Forest Classifier:')\n",
        "print('Accuracy:', accuracy_score(y_test, y_pred_rf))\n",
        "print('Precision:', precision_score(y_test, y_pred_rf))\n",
        "print('Recall:', recall_score(y_test, y_pred_rf))\n",
        "print('F1 score:', f1_score(y_test, y_pred_rf))"
      ],
      "metadata": {
        "colab": {
          "base_uri": "https://localhost:8080/"
        },
        "id": "LTqT__TtiPB5",
        "outputId": "6f27fcfb-03fd-46af-b5cd-fad369ee6ebb"
      },
      "execution_count": 19,
      "outputs": [
        {
          "output_type": "stream",
          "name": "stdout",
          "text": [
            "Random Forest Classifier:\n",
            "Accuracy: 0.8933495539334956\n",
            "Precision: 0.7517006802721088\n",
            "Recall: 0.537712895377129\n",
            "F1 score: 0.626950354609929\n"
          ]
        }
      ]
    },
    {
      "cell_type": "code",
      "source": [
        "print('Gradient Boosting Classifier:')\n",
        "print('Accuracy:', accuracy_score(y_test, y_pred_gb))\n",
        "print('Precision:', precision_score(y_test, y_pred_gb))\n",
        "print('Recall:', recall_score(y_test, y_pred_gb))\n",
        "print('F1 score:', f1_score(y_test, y_pred_gb))"
      ],
      "metadata": {
        "colab": {
          "base_uri": "https://localhost:8080/"
        },
        "id": "vYJOano2iRjX",
        "outputId": "5d6d3aa2-4e8e-4ca5-af39-c9c963da0d89"
      },
      "execution_count": 17,
      "outputs": [
        {
          "output_type": "stream",
          "name": "stdout",
          "text": [
            "Gradient Boosting Classifier:\n",
            "Accuracy: 0.8925385239253852\n",
            "Precision: 0.7172619047619048\n",
            "Recall: 0.5863746958637469\n",
            "F1 score: 0.64524765729585\n"
          ]
        }
      ]
    },
    {
      "cell_type": "code",
      "source": [
        "print('Ensemble Voting Classifier:')\n",
        "print('Accuracy:', accuracy_score(y_test, y_pred_ensemble))\n",
        "print('Precision:', precision_score(y_test, y_pred_ensemble))\n",
        "print('Recall:', recall_score(y_test, y_pred_ensemble))\n",
        "print('F1 score:', f1_score(y_test, y_pred_ensemble))"
      ],
      "metadata": {
        "colab": {
          "base_uri": "https://localhost:8080/"
        },
        "id": "P3XY8_HGjOei",
        "outputId": "b73a4565-7ed8-4a34-cf12-319cf5fe0260"
      },
      "execution_count": 18,
      "outputs": [
        {
          "output_type": "stream",
          "name": "stdout",
          "text": [
            "Ensemble Voting Classifier:\n",
            "Accuracy: 0.8941605839416058\n",
            "Precision: 0.7757352941176471\n",
            "Recall: 0.51338199513382\n",
            "F1 score: 0.6178623718887263\n"
          ]
        }
      ]
    },
    {
      "cell_type": "markdown",
      "source": [
        "### Answer 5:"
      ],
      "metadata": {
        "id": "k8QaFrrBj9hl"
      }
    },
    {
      "cell_type": "code",
      "source": [
        "import pandas as pd\n",
        "import numpy as np\n",
        "import matplotlib.pyplot as plt\n",
        "from sklearn.cluster import KMeans\n",
        "from sklearn.linear_model import LinearRegression\n",
        "from sklearn.model_selection import train_test_split\n",
        "\n",
        "# Load the dataset\n",
        "df = pd.read_csv(\"/content/drive/MyDrive/rideshare_kaggle.csv\")\n",
        "\n",
        "# Perform data preprocessing if needed\n",
        "\n",
        "# Unsupervised algorithm to predict high booking areas\n",
        "X = df[['latitude', 'longitude']]   # Features for clustering\n",
        "\n",
        "# Determine the optimal number of clusters using the elbow method\n",
        "wcss = []\n",
        "for i in range(1, 11):\n",
        "    kmeans = KMeans(n_clusters=i, random_state=42)\n",
        "    kmeans.fit(X)\n",
        "    wcss.append(kmeans.inertia_)\n",
        "plt.plot(range(1, 11), wcss)\n",
        "plt.xlabel('Number of Clusters')\n",
        "plt.ylabel('WCSS')\n",
        "plt.title('Elbow Method')\n",
        "plt.show()\n",
        "\n",
        "# Choose the number of clusters and perform clustering\n",
        "n_clusters = 4\n",
        "kmeans = KMeans(n_clusters=n_clusters, random_state=42)\n",
        "kmeans.fit(X)\n",
        "\n",
        "# Add the cluster labels to the dataset\n",
        "df['Cluster'] = kmeans.labels_\n",
        "\n",
        "# Display the clusters on a map using a library like folium\n",
        "# Your code for displaying the clusters on a map goes here\n",
        "\n",
        "# Supervised algorithm to predict price for location\n",
        "X = df[['latitude', 'longitude']]  # Features for regression\n",
        "y = df['price']  # Target variable\n",
        "\n",
        "# Handle missing values in the target variable\n",
        "y.fillna(y.mean(), inplace=True)\n",
        "\n",
        "# Split the data into training and testing sets\n",
        "X_train, X_test, y_train, y_test = train_test_split(X, y, test_size=0.2, random_state=42)\n",
        "\n",
        "# Train a linear regression model\n",
        "model = LinearRegression()\n",
        "model.fit(X_train, y_train)\n",
        "\n",
        "# Predict the price for the testing data\n",
        "y_pred = model.predict(X_test)"
      ],
      "metadata": {
        "colab": {
          "base_uri": "https://localhost:8080/",
          "height": 890
        },
        "id": "dlPbjQu2_Yei",
        "outputId": "b9ed28b2-e5d7-432d-c928-b6d9ab0693f8"
      },
      "execution_count": 32,
      "outputs": [
        {
          "output_type": "stream",
          "name": "stderr",
          "text": [
            "/usr/local/lib/python3.9/dist-packages/sklearn/cluster/_kmeans.py:870: FutureWarning: The default value of `n_init` will change from 10 to 'auto' in 1.4. Set the value of `n_init` explicitly to suppress the warning\n",
            "  warnings.warn(\n",
            "/usr/local/lib/python3.9/dist-packages/sklearn/cluster/_kmeans.py:870: FutureWarning: The default value of `n_init` will change from 10 to 'auto' in 1.4. Set the value of `n_init` explicitly to suppress the warning\n",
            "  warnings.warn(\n",
            "/usr/local/lib/python3.9/dist-packages/sklearn/cluster/_kmeans.py:870: FutureWarning: The default value of `n_init` will change from 10 to 'auto' in 1.4. Set the value of `n_init` explicitly to suppress the warning\n",
            "  warnings.warn(\n",
            "/usr/local/lib/python3.9/dist-packages/sklearn/cluster/_kmeans.py:870: FutureWarning: The default value of `n_init` will change from 10 to 'auto' in 1.4. Set the value of `n_init` explicitly to suppress the warning\n",
            "  warnings.warn(\n",
            "/usr/local/lib/python3.9/dist-packages/sklearn/cluster/_kmeans.py:870: FutureWarning: The default value of `n_init` will change from 10 to 'auto' in 1.4. Set the value of `n_init` explicitly to suppress the warning\n",
            "  warnings.warn(\n",
            "/usr/local/lib/python3.9/dist-packages/sklearn/cluster/_kmeans.py:870: FutureWarning: The default value of `n_init` will change from 10 to 'auto' in 1.4. Set the value of `n_init` explicitly to suppress the warning\n",
            "  warnings.warn(\n",
            "/usr/local/lib/python3.9/dist-packages/sklearn/cluster/_kmeans.py:870: FutureWarning: The default value of `n_init` will change from 10 to 'auto' in 1.4. Set the value of `n_init` explicitly to suppress the warning\n",
            "  warnings.warn(\n",
            "/usr/local/lib/python3.9/dist-packages/sklearn/cluster/_kmeans.py:870: FutureWarning: The default value of `n_init` will change from 10 to 'auto' in 1.4. Set the value of `n_init` explicitly to suppress the warning\n",
            "  warnings.warn(\n",
            "/usr/local/lib/python3.9/dist-packages/sklearn/cluster/_kmeans.py:870: FutureWarning: The default value of `n_init` will change from 10 to 'auto' in 1.4. Set the value of `n_init` explicitly to suppress the warning\n",
            "  warnings.warn(\n",
            "/usr/local/lib/python3.9/dist-packages/sklearn/cluster/_kmeans.py:870: FutureWarning: The default value of `n_init` will change from 10 to 'auto' in 1.4. Set the value of `n_init` explicitly to suppress the warning\n",
            "  warnings.warn(\n"
          ]
        },
        {
          "output_type": "display_data",
          "data": {
            "text/plain": [
              "<Figure size 640x480 with 1 Axes>"
            ],
            "image/png": "[encoded data removed]"
          },
          "metadata": {}
        },
        {
          "output_type": "stream",
          "name": "stderr",
          "text": [
            "/usr/local/lib/python3.9/dist-packages/sklearn/cluster/_kmeans.py:870: FutureWarning: The default value of `n_init` will change from 10 to 'auto' in 1.4. Set the value of `n_init` explicitly to suppress the warning\n",
            "  warnings.warn(\n"
          ]
        }
      ]
    },
    {
      "cell_type": "code",
      "source": [
        "y_pred"
      ],
      "metadata": {
        "colab": {
          "base_uri": "https://localhost:8080/"
        },
        "id": "h2hZaL_Fk4ks",
        "outputId": "439d20aa-d3a6-4637-9b8d-ca1a1347f720"
      },
      "execution_count": 33,
      "outputs": [
        {
          "output_type": "execute_result",
          "data": {
            "text/plain": [
              "array([16.56060583, 16.56040907, 16.50930645, ..., 16.55409088,\n",
              "       16.56081669, 16.56126161])"
            ]
          },
          "metadata": {},
          "execution_count": 33
        }
      ]
    },
    {
      "cell_type": "markdown",
      "source": [
        "### Answer 6:"
      ],
      "metadata": {
        "id": "IEw5Ml2MnRsb"
      }
    },
    {
      "cell_type": "code",
      "source": [
        "import pandas as pd\n",
        "from sklearn.datasets import load_breast_cancer\n",
        "from sklearn.model_selection import train_test_split\n",
        "from sklearn.preprocessing import StandardScaler\n",
        "from sklearn.linear_model import LogisticRegression\n",
        "from sklearn.tree import DecisionTreeClassifier\n",
        "from sklearn.ensemble import RandomForestClassifier, GradientBoostingClassifier\n",
        "from sklearn.metrics import accuracy_score\n",
        "from flask import Flask, request, jsonify\n",
        "\n",
        "# Load the Breast Cancer Wisconsin (Diagnostic) dataset\n",
        "data = load_breast_cancer()\n",
        "X = data.data\n",
        "y = data.target\n",
        "\n",
        "# Preprocess the data\n",
        "scaler = StandardScaler()\n",
        "X = scaler.fit_transform(X)\n",
        "X_train, X_test, y_train, y_test = train_test_split(X, y, test_size=0.2, random_state=42)\n",
        "\n",
        "# Train the classification models\n",
        "logreg = LogisticRegression(random_state=42)\n",
        "logreg.fit(X_train, y_train)\n",
        "\n",
        "dt = DecisionTreeClassifier(random_state=42)\n",
        "dt.fit(X_train, y_train)\n",
        "\n",
        "rf = RandomForestClassifier(random_state=42)\n",
        "rf.fit(X_train, y_train)\n",
        "\n",
        "gb = GradientBoostingClassifier(random_state=42)\n",
        "gb.fit(X_train, y_train)\n",
        "\n",
        "# Evaluate the models\n",
        "# ```python\n",
        "logreg_acc = accuracy_score(y_test, logreg.predict(X_test))\n",
        "dt_acc = accuracy_score(y_test, dt.predict(X_test))\n",
        "rf_acc = accuracy_score(y_test, rf.predict(X_test))\n",
        "gb_acc = accuracy_score(y_test, gb.predict(X_test))\n",
        "\n",
        "# Build a Flask app\n",
        "app = Flask(__name__)\n",
        "\n",
        "@app.route('/', methods=['POST'])\n",
        "def predict_loan_eligibility():\n",
        "    data = request.get_json()\n",
        "    data = pd.DataFrame.from_dict(data)\n",
        "    data = scaler.transform(data)\n",
        "    prediction = {\n",
        "        'Logistic Regression': int(logreg.predict(data)[0]),\n",
        "        'Decision Tree': int(dt.predict(data)[0]),\n",
        "        'Random Forest': int(rf.predict(data)[0]),\n",
        "        'Gradient Boosting': int(gb.predict(data)[0])\n",
        "    }\n",
        "    return jsonify(prediction)\n",
        "\n",
        "# Build a Docker image\n",
        "FROM python:3.9\n",
        "WORKDIR /app\n",
        "COPY requirements.txt .\n",
        "RUN pip install -r requirements.txt\n",
        "COPY app.py .\n",
        "CMD [ \"python\", \"app.py\" ]\n",
        "\n",
        "# Run the Docker container\n",
        "docker build -t loan-eligibility-predictor .\n",
        "docker run -p 8000:8000 loan-eligibility-predictor"
      ],
      "metadata": {
        "id": "IwttzzufnUC_"
      },
      "execution_count": 6,
      "outputs": []
    },
    {
      "cell_type": "code",
      "source": [
        "dt_acc # decision_tree"
      ],
      "metadata": {
        "colab": {
          "base_uri": "https://localhost:8080/"
        },
        "id": "T47hbTnxn7H3",
        "outputId": "84353d32-2c11-43ed-fadb-008252f77d25"
      },
      "execution_count": 7,
      "outputs": [
        {
          "output_type": "execute_result",
          "data": {
            "text/plain": [
              "0.9473684210526315"
            ]
          },
          "metadata": {},
          "execution_count": 7
        }
      ]
    },
    {
      "cell_type": "code",
      "source": [
        "rf_acc #random_forest"
      ],
      "metadata": {
        "colab": {
          "base_uri": "https://localhost:8080/"
        },
        "id": "BZrALHzgoyY8",
        "outputId": "94cd87ec-7728-4ff1-c2a6-bc5c56d606a6"
      },
      "execution_count": 8,
      "outputs": [
        {
          "output_type": "execute_result",
          "data": {
            "text/plain": [
              "0.9649122807017544"
            ]
          },
          "metadata": {},
          "execution_count": 8
        }
      ]
    },
    {
      "cell_type": "code",
      "source": [
        "gb_acc # gradient_boost"
      ],
      "metadata": {
        "colab": {
          "base_uri": "https://localhost:8080/"
        },
        "id": "k3JZx-Qr4DNC",
        "outputId": "9b889a97-631b-4e7d-a60a-e2503fb645ff"
      },
      "execution_count": 10,
      "outputs": [
        {
          "output_type": "execute_result",
          "data": {
            "text/plain": [
              "0.956140350877193"
            ]
          },
          "metadata": {},
          "execution_count": 10
        }
      ]
    },
    {
      "cell_type": "markdown",
      "source": [
        "### Answer 7:"
      ],
      "metadata": {
        "id": "jDEaKTRRpXqF"
      }
    },
    {
      "cell_type": "code",
      "source": [
        "import pandas as pd\n",
        "from sklearn.preprocessing import StandardScaler\n",
        "from sklearn.cluster import KMeans\n",
        "from sklearn.metrics import adjusted_rand_score\n",
        "import plotly.graph_objects as go\n",
        "from flask import Flask, render_template\n",
        "\n",
        "# Load the dataset\n",
        "data = pd.read_csv('/content/data.csv')\n",
        "\n",
        "# Prepare the data\n",
        "X = data.drop(['filename', 'label'], axis=1)\n",
        "\n",
        "# Normalize the data\n",
        "scaler = StandardScaler()\n",
        "X = scaler.fit_transform(X)\n",
        "\n",
        "# Choose an unsupervised clustering algorithm\n",
        "kmeans = KMeans(n_clusters=4, random_state=42)\n",
        "kmeans.fit(X)\n",
        "\n",
        "# Evaluate the accuracy of the unsupervised algorithm\n",
        "ari = adjusted_rand_score(data['label'], kmeans.labels_)\n",
        "print('Adjusted Rand Index (ARI):', ari)\n",
        "\n",
        "# Build a Flask application to display the accuracy in a frontend\n",
        "app = Flask(__name__)\n",
        "\n",
        "@app.route('/')\n",
        "def index():\n",
        "    # Create an elbow plot to determine the optimal number of clusters\n",
        "    inertia = []\n",
        "    for k in range(1, 11):\n",
        "        kmeans = KMeans(n_clusters=k, random_state=42)\n",
        "        kmeans.fit(X)\n",
        "        inertia.append(kmeans.inertia_)\n",
        "\n",
        "    fig = go.Figure()\n",
        "    fig.add_trace(go.Scatter(x=list(range(1, 11)), y=inertia, mode='lines'))\n",
        "    fig.update_layout(title='Elbow Method', xaxis_title='Number of Clusters', yaxis_title='Inertia')\n",
        "    fig.write_html('templates/elbow.html')\n",
        "\n",
        "    # Compute the ARI value\n",
        "    ari = adjusted_rand_score(data['label'], kmeans.labels_)\n",
        "\n",
        "    # Render the index.html template with the ARI value and elbow plot\n",
        "    return render_template('index.html', ari=ari)\n",
        "\n",
        "if __name__ == '__main__':\n",
        "    app.run(debug=True)\n",
        "\n",
        "# In the index.html template, we can use simple HTML and Plotly to display the ARI value and the elbow plot\n",
        "# Here is an example of the index.html template:\n",
        "\n",
        "\"\"\"\n",
        "<!DOCTYPE html>\n",
        "<html>\n",
        "  <head>\n",
        "    <title>Unsupervised Music Genre Prediction</title>\n",
        "  </head>\n",
        "  <body>\n",
        "    <h1>Unsupervised Music Genre Prediction</h1>\n",
        "    <h2>Adjusted Rand Index (ARI): {{ ari }}</h2>\n",
        "    <div id=\"plot\"></div>\n",
        "    <script src=\"https://cdn.plot.ly/plotly-latest.min.js\"></script>\n",
        "    <script>\n",
        "      Plotly.d3.csv('/static/elbow.csv', function(data) {\n",
        "        var x = [], y = [];\n",
        "        for (var i = 0; i < data.length; i++) {\n",
        "          x.push(data[i]['x']);\n",
        "          y.push(data[i]['y']);\n",
        "       }\n",
        "        var trace = {\n",
        "          x: x,\n",
        "          y: y,\n",
        "          type: 'scatter',\n",
        "          mode: 'lines',\n",
        "          name: 'Inertia'\n",
        "        };\n",
        "        var layout = {\n",
        "          title: 'Elbow Method',\n",
        "          xaxis: {\n",
        "            title: 'Number of Clusters'\n",
        "          },\n",
        "          yaxis: {\n",
        "            title: 'Inertia'\n",
        "          }\n",
        "        };\n",
        "        Plotly.newPlot('plot', [trace], layout);\n",
        "      });\n",
        "    </script>\n",
        "  </body>\n",
        "</html>\n",
        "\n",
        "# Adjusted Rand Index (ARI): 0.1531170089652427"
      ],
      "metadata": {
        "colab": {
          "base_uri": "https://localhost:8080/"
        },
        "id": "HeOA_BnKpa37",
        "outputId": "ccba6e8f-1aca-47ee-98b0-35f19dbd9e96"
      },
      "execution_count": 38,
      "outputs": [
        {
          "output_type": "stream",
          "name": "stderr",
          "text": [
            "/usr/local/lib/python3.10/dist-packages/sklearn/cluster/_kmeans.py:870: FutureWarning: The default value of `n_init` will change from 10 to 'auto' in 1.4. Set the value of `n_init` explicitly to suppress the warning\n",
            "  warnings.warn(\n"
          ]
        },
        {
          "output_type": "stream",
          "name": "stdout",
          "text": [
            "Adjusted Rand Index (ARI): 0.1531170089652427\n",
            " * Serving Flask app '__main__'\n",
            " * Debug mode: on\n"
          ]
        },
        {
          "output_type": "stream",
          "name": "stderr",
          "text": [
            "INFO:werkzeug:\u001b[31m\u001b[1mWARNING: This is a development server. Do not use it in a production deployment. Use a production WSGI server instead.\u001b[0m\n",
            " * Running on http://127.0.0.1:5000\n",
            "INFO:werkzeug:\u001b[33mPress CTRL+C to quit\u001b[0m\n",
            "INFO:werkzeug: * Restarting with stat\n"
          ]
        }
      ]
    },
    {
      "cell_type": "markdown",
      "source": [
        "### Answer 8"
      ],
      "metadata": {
        "id": "ONlCnyzUwUoi"
      }
    },
    {
      "cell_type": "code",
      "source": [
        "\n",
        "import pandas as pd\n",
        "from sklearn.feature_extraction.text import TfidfVectorizer\n",
        "from sklearn.model_selection import train_test_split\n",
        "from sklearn.linear_model import LogisticRegression\n",
        "from sklearn.metrics import accuracy_score\n",
        "\n",
        "# Load and preprocess the data\n",
        "df = pd.read_csv(\"/content/drive/MyDrive/train.csv\")\n",
        "df.dropna(inplace=True)\n",
        "\n",
        "# Perform TF-IDF vectorization\n",
        "vectorizer = TfidfVectorizer()\n",
        "X = vectorizer.fit_transform(df[\"question1\"] + \" \" + df[\"question2\"])\n",
        "\n",
        "# Split the data into training and testing sets\n",
        "y = df[\"is_duplicate\"]\n",
        "X_train, X_test, y_train, y_test = train_test_split(X, y, test_size=0.2, random_state=42)\n",
        "\n",
        "# Train a supervised algorithm\n",
        "model = LogisticRegression()\n",
        "model.fit(X_train, y_train)\n",
        "\n",
        "# Evaluate the model\n",
        "y_pred = model.predict(X_test)\n",
        "accuracy = accuracy_score(y_test, y_pred)\n",
        "print(\"Accuracy:\", accuracy)\n"
      ],
      "metadata": {
        "colab": {
          "base_uri": "https://localhost:8080/"
        },
        "id": "q4EgRLlQsrZ0",
        "outputId": "325482e9-861c-43ed-aeca-c907f05dd724"
      },
      "execution_count": 20,
      "outputs": [
        {
          "output_type": "stream",
          "name": "stdout",
          "text": [
            "Accuracy: 0.7547305152242202\n"
          ]
        },
        {
          "output_type": "stream",
          "name": "stderr",
          "text": [
            "/usr/local/lib/python3.9/dist-packages/sklearn/linear_model/_logistic.py:458: ConvergenceWarning: lbfgs failed to converge (status=1):\n",
            "STOP: TOTAL NO. of ITERATIONS REACHED LIMIT.\n",
            "\n",
            "Increase the number of iterations (max_iter) or scale the data as shown in:\n",
            "    https://scikit-learn.org/stable/modules/preprocessing.html\n",
            "Please also refer to the documentation for alternative solver options:\n",
            "    https://scikit-learn.org/stable/modules/linear_model.html#logistic-regression\n",
            "  n_iter_i = _check_optimize_result(\n"
          ]
        }
      ]
    },
    {
      "cell_type": "code",
      "source": [
        "from google.colab import drive\n",
        "drive.mount('/content/drive')"
      ],
      "metadata": {
        "colab": {
          "base_uri": "https://localhost:8080/"
        },
        "id": "I0KppULS17cL",
        "outputId": "db543111-2ebe-450b-d872-25a7c1aa3984"
      },
      "execution_count": 2,
      "outputs": [
        {
          "output_type": "stream",
          "name": "stdout",
          "text": [
            "Mounted at /content/drive\n"
          ]
        }
      ]
    },
    {
      "cell_type": "markdown",
      "source": [
        "### Answer 9: --->"
      ],
      "metadata": {
        "id": "S7z9RI_OiezL"
      }
    },
    {
      "cell_type": "code",
      "source": [],
      "metadata": {
        "id": "UYSSxTDcmNrJ"
      },
      "execution_count": null,
      "outputs": []
    },
    {
      "cell_type": "markdown",
      "source": [
        "## Advance ML\n",
        "\n"
      ],
      "metadata": {
        "id": "01McSDZdnh9s"
      }
    },
    {
      "cell_type": "markdown",
      "source": [
        "### Answer 1--->\n"
      ],
      "metadata": {
        "id": "a55FEtgPrNjb"
      }
    },
    {
      "cell_type": "code",
      "source": [],
      "metadata": {
        "id": "MaLZ9N4Enj9Q"
      },
      "execution_count": null,
      "outputs": []
    },
    {
      "cell_type": "markdown",
      "source": [
        "### Answer 2\n",
        "A chemist had two chemical flasks labeled 0 and 1 which consist of two\n",
        "different chemicals. He extracted 3 features from these chemicals in order to\n",
        "distinguish between them, you provided the results derived by the chemicals and\n",
        "your task is to create a model that will label chemical 0 or 1 given its three features\n",
        "and built-in docker and use some library to display that in frontend.\n",
        "Note : Use only pyspark\n",
        "https://www.kaggle.com/datasets/uciml/indian-liver-patient-records\n",
        " This is the Dataset You can use this dataset for this question.\n"
      ],
      "metadata": {
        "id": "XikMUxkGnl2b"
      }
    },
    {
      "cell_type": "code",
      "source": [
        "pip install pyspark"
      ],
      "metadata": {
        "id": "XjBEkHOWsA5m"
      },
      "execution_count": null,
      "outputs": []
    },
    {
      "cell_type": "code",
      "source": [
        "from pyspark.sql import SparkSession\n",
        "from pyspark.ml.feature import VectorAssembler, StandardScaler\n",
        "from pyspark.ml.classification import LogisticRegression\n",
        "from pyspark.ml import Pipeline\n",
        "\n",
        "# Step 1: Load the dataset into a PySpark DataFrame\n",
        "spark = SparkSession.builder.appName('ChemicalClassification').getOrCreate()\n",
        "data = spark.read.csv('indian_liver_patient.csv', header=True, inferSchema=True)\n",
        "\n",
        "# Step 2: Perform some basic EDA\n",
        "data.printSchema()\n",
        "data.describe().show()\n",
        "data.groupBy('Dataset').count().show()\n",
        "\n",
        "# Step 3: Split the dataset into training and testing sets\n",
        "train_data, test_data = data.randomSplit([0.7, 0.3], seed=42)\n",
        "\n",
        "# Step 4: Define a pipeline to preprocess the data and train a classification model\n",
        "assembler = VectorAssembler(inputCols=['Age', 'Total_Bilirubin', 'Albumin'], outputCol='features')\n",
        "scaler = StandardScaler(inputCol='features', outputCol='scaled_features')\n",
        "lr = LogisticRegression(featuresCol='scaled_features', labelCol='Dataset')\n",
        "\n",
        "pipeline = Pipeline(stages=[assembler, scaler, lr])\n",
        "\n",
        "# Step 5: Fit the pipeline on the training data and evaluate the performance on the testing data\n",
        "model = pipeline.fit(train_data)\n",
        "predictions = model.transform(test_data)\n",
        "accuracy = predictions.filter(predictions.Dataset == predictions.prediction).count() / float(predictions.count())\n",
        "print('Accuracy:', accuracy)\n",
        "\n",
        "\n",
        "\n",
        "\n",
        "from flask import Flask, request, jsonify\n",
        "import requests\n",
        "\n",
        "app = Flask(__name__)\n",
        "\n",
        "model_url = 'http://<your-model-url>'\n",
        "\n",
        "@app.route('/')\n",
        "def home():\n",
        "    return 'Welcome to the Chemical Classification Web App!'\n",
        "\n",
        "@app.route('/predict', methods=['POST'])\n",
        "def predict():\n",
        "    age = request.form.get('age')\n",
        "    total_bilirubin = request.form.get('total_bilirubin')\n",
        "    albumin = request.form.get('albumin')\n",
        "\n",
        "    input_data = {'age': age, 'total_bilirubin': total_bilirubin, 'albumin': albumin}\n",
        "\n",
        "    response = requests.post(model_url, json=input_data)\n",
        "\n",
        "    if response.ok:\n",
        "        prediction = response.json()['prediction']\n",
        "        return jsonify({'prediction': prediction})\n",
        "    else:\n",
        "        return jsonify({'error': 'Failed to get prediction'})\n",
        "\n",
        "if __name__ == '__main__':\n",
        "    app.run(debug=True)\n",
        "\n"
      ],
      "metadata": {
        "colab": {
          "base_uri": "https://localhost:8080/"
        },
        "id": "1_OhZreqnlKP",
        "outputId": "671be181-eaf6-49d0-96a4-5d9088f62f6a"
      },
      "execution_count": 11,
      "outputs": [
        {
          "output_type": "stream",
          "name": "stdout",
          "text": [
            "root\n",
            " |-- Age: integer (nullable = true)\n",
            " |-- Gender: string (nullable = true)\n",
            " |-- Total_Bilirubin: double (nullable = true)\n",
            " |-- Direct_Bilirubin: double (nullable = true)\n",
            " |-- Alkaline_Phosphotase: integer (nullable = true)\n",
            " |-- Alamine_Aminotransferase: integer (nullable = true)\n",
            " |-- Aspartate_Aminotransferase: integer (nullable = true)\n",
            " |-- Total_Protiens: double (nullable = true)\n",
            " |-- Albumin: double (nullable = true)\n",
            " |-- Albumin_and_Globulin_Ratio: double (nullable = true)\n",
            " |-- Dataset: integer (nullable = true)\n",
            "\n",
            "+-------+------------------+------+-----------------+------------------+--------------------+------------------------+--------------------------+------------------+-----------------+--------------------------+------------------+\n",
            "|summary|               Age|Gender|  Total_Bilirubin|  Direct_Bilirubin|Alkaline_Phosphotase|Alamine_Aminotransferase|Aspartate_Aminotransferase|    Total_Protiens|          Albumin|Albumin_and_Globulin_Ratio|           Dataset|\n",
            "+-------+------------------+------+-----------------+------------------+--------------------+------------------------+--------------------------+------------------+-----------------+--------------------------+------------------+\n",
            "|  count|               583|   583|              583|               583|                 583|                     583|                       583|               583|              583|                       579|               583|\n",
            "|   mean| 44.74614065180103|  null|3.298799313893652|1.4861063464837074|  290.57632933104634|       80.71355060034305|        109.91080617495712| 6.483190394511151| 3.14185248713551|        0.9470639032815201|1.2864493996569468|\n",
            "| stddev|16.189833304694375|  null|6.209521726180151| 2.808497617658965|  242.93798917934402|       182.6203560342026|         288.9185290517341|1.0854514840234648|0.795518805964026|       0.31959210767237056|0.4524901515081166|\n",
            "|    min|                 4|Female|              0.4|               0.1|                  63|                      10|                        10|               2.7|              0.9|                       0.3|                 1|\n",
            "|    max|                90|  Male|             75.0|              19.7|                2110|                    2000|                      4929|               9.6|              5.5|                       2.8|                 2|\n",
            "+-------+------------------+------+-----------------+------------------+--------------------+------------------------+--------------------------+------------------+-----------------+--------------------------+------------------+\n",
            "\n",
            "+-------+-----+\n",
            "|Dataset|count|\n",
            "+-------+-----+\n",
            "|      1|  416|\n",
            "|      2|  167|\n",
            "+-------+-----+\n",
            "\n",
            "Accuracy: 0.7162162162162162\n",
            " * Serving Flask app '__main__'\n",
            " * Debug mode: on\n"
          ]
        },
        {
          "output_type": "stream",
          "name": "stderr",
          "text": [
            "INFO:werkzeug:\u001b[31m\u001b[1mWARNING: This is a development server. Do not use it in a production deployment. Use a production WSGI server instead.\u001b[0m\n",
            " * Running on http://127.0.0.1:5000\n",
            "INFO:werkzeug:\u001b[33mPress CTRL+C to quit\u001b[0m\n",
            "INFO:werkzeug: * Restarting with stat\n"
          ]
        }
      ]
    },
    {
      "cell_type": "markdown",
      "source": [
        "### Answer 3:\n",
        " A company wants to predict the sales of its product based on the money spent\n",
        "on different platforms for marketing. They want you to figure out how they can\n",
        "spend money on marketing in the future in such a way that they can increase their\n",
        "profit as much as possible built-in docker and use some library to display that in\n",
        "frontend https://www.kaggle.com/datasets/ashydv/advertising-dataset\n",
        " This is the Dataset You can use this dataset for this question. Note:\n",
        "Use only Dask\n"
      ],
      "metadata": {
        "id": "ULLKwpNUtPPE"
      }
    },
    {
      "cell_type": "code",
      "source": [
        "!pip install dask[dataframe]\n",
        "pip install dask_ml"
      ],
      "metadata": {
        "id": "qIjh2SDZxG7j"
      },
      "execution_count": null,
      "outputs": []
    },
    {
      "cell_type": "code",
      "source": [
        "import dask.dataframe as dd\n",
        "import dask.array as da\n",
        "from dask_ml.model_selection import train_test_split\n",
        "from dask_ml.linear_model import LinearRegression\n",
        "from dask_ml.metrics import mean_squared_error\n",
        "from dask_ml.preprocessing import StandardScaler\n",
        "\n",
        "# Load the advertising dataset\n",
        "df = dd.read_csv(\"advertising.csv\")\n",
        "\n",
        "# Assign column names to the dataframe\n",
        "df.columns = ['TV', 'Radio', 'Newspaper', 'Sales']\n",
        "\n",
        "# Split the data into features (X) and target (y)\n",
        "X = df[['TV', 'Radio', 'Newspaper']].to_dask_array(lengths=True)\n",
        "y = df['Sales'].to_dask_array(lengths=True)\n",
        "\n",
        "# Split the data into training and testing sets\n",
        "X_train, X_test, y_train, y_test = train_test_split(X, y, test_size=0.2, random_state=42)\n",
        "\n",
        "# Scale the features\n",
        "scaler = StandardScaler()\n",
        "X_train_scaled= scaler.fit_transform(X_train)\n",
        "X_test_scaled = scaler.transform(X_test)\n",
        "\n",
        "# Train a linear regression model\n",
        "model = LinearRegression(fit_intercept=True)\n",
        "model.fit(X_train_scaled, y_train)\n",
        "\n",
        "# Make predictions on the testing set\n",
        "y_pred = model.predict(X_test_scaled)\n",
        "\n",
        "# Compute the mean squared error\n",
        "mse = mean_squared_error(y_test, y_pred)\n",
        "print(\"Mean Squared Error:\", mse)\n",
        "\n",
        "# Optimize marketing budget for maximum profit\n",
        "budgets = [100, 200, 300, 400, 500]  # Specify the budget values to optimize\n",
        "profits = []\n",
        "\n",
        "for budget in budgets:\n",
        "    # Allocate the budget proportionally based on feature coefficients\n",
        "    budget_allocation = model.coef_ * budget\n",
        "\n",
        "    # Compute the predicted sales with the budget allocation\n",
        "    predicted_sales = model.predict(budget_allocation.reshape(1, -1))\n",
        "\n",
        "    # Compute the profit by subtracting the marketing budget from the predicted sales\n",
        "    profit = predicted_sales - budget\n",
        "\n",
        "    profits.append(profit)\n",
        "\n",
        "# Determine the optimal budget and maximum profit\n",
        "optimal_budget = budgets[profits.index(max(profits))]\n",
        "max_profit = max(profits)\n",
        "\n",
        "print(\"Optimal Budget:\", optimal_budget)\n",
        "print(\"Max Profit:\", max_profit)"
      ],
      "metadata": {
        "colab": {
          "base_uri": "https://localhost:8080/"
        },
        "id": "ya61fST29rpO",
        "outputId": "4871d45e-7ee9-45c9-b539-7f09c6d7c41f"
      },
      "execution_count": 14,
      "outputs": [
        {
          "output_type": "stream",
          "name": "stdout",
          "text": [
            "Mean Squared Error: 2.852372223432255\n",
            "Optimal Budget: 500\n",
            "Max Profit: [12199.7300418]\n"
          ]
        }
      ]
    },
    {
      "cell_type": "markdown",
      "source": [
        "Code for Docker_file"
      ],
      "metadata": {
        "id": "S4RhsbVxGsFF"
      }
    },
    {
      "cell_type": "code",
      "source": [
        "# Use an official Python runtime as the base image\n",
        "FROM python:3.9\n",
        "\n",
        "# Set the working directory in the container\n",
        "WORKDIR /app\n",
        "\n",
        "# Copy the requirements file into the container\n",
        "COPY requirements.txt .\n",
        "\n",
        "# Install the Python dependencies\n",
        "RUN pip install --no-cache-dir -r requirements.txt\n",
        "\n",
        "# Copy the code into the container\n",
        "COPY . .\n",
        "\n",
        "# Expose a port if necessary\n",
        "# EXPOSE 8000\n",
        "\n",
        "# Run the command to start the application\n",
        "CMD [\"python\", \"app.py\"]\n"
      ],
      "metadata": {
        "id": "mTKG19T_Bkhd"
      },
      "execution_count": 19,
      "outputs": []
    },
    {
      "cell_type": "markdown",
      "source": [
        "code for app.py"
      ],
      "metadata": {
        "id": "KjpO2DEjGyln"
      }
    },
    {
      "cell_type": "code",
      "source": [
        "import dask.dataframe as dd\n",
        "from dask_ml.preprocessing import StandardScaler\n",
        "from sklearn.model_selection import train_test_split\n",
        "from sklearn.linear_model import LinearRegression\n",
        "from sklearn.metrics import mean_squared_error\n",
        "from flask import Flask, request, jsonify\n",
        "\n",
        "# Load the advertising dataset\n",
        "df = dd.read_csv(\"advertising.csv\")\n",
        "\n",
        "# Split the data into features (X) and target (y)\n",
        "X = df[['TV', 'Radio', 'Newspaper']].compute()\n",
        "y = df['Sales'].compute()\n",
        "\n",
        "# Split the data into training and testing sets\n",
        "X_train, X_test, y_train, y_test = train_test_split(X, y, test_size=0.2, random_state=42)\n",
        "\n",
        "# Scale the features\n",
        "scaler = StandardScaler()\n",
        "X_train_scaled = scaler.fit_transform(X_train)\n",
        "X_test_scaled = scaler.transform(X_test)\n",
        "\n",
        "# Train a linear regression model\n",
        "model = LinearRegression()\n",
        "model.fit(X_train_scaled, y_train)\n",
        "\n",
        "# Create a Flask app\n",
        "app = Flask(__name__)\n",
        "\n",
        "# Define a route for making predictions\n",
        "@app.route(\"/predict\", methods=[\"POST\"])\n",
        "def predict():\n",
        "    data = request.get_json()\n",
        "    budget = data[\"budget\"]\n",
        "\n",
        "    # Allocate the budget proportionally based on feature coefficients\n",
        "    budget_allocation = model.coef_ * budget\n",
        "\n",
        "    # Compute the predicted sales with the budget allocation\n",
        "    predicted_sales = model.predict(budget_allocation.reshape(1, -1))\n",
        "\n",
        "    # Compute the profit by subtracting the marketing budget from the predicted sales\n",
        "    profit = predicted_sales - budget\n",
        "\n",
        "    # Create a response JSON\n",
        "    response = {\n",
        "        \"predicted_sales\": predicted_sales.item(),\n",
        "        \"profit\": profit.item()\n",
        "    }\n",
        "\n",
        "    return jsonify(response)\n",
        "\n",
        "# Run the Flask app\n",
        "if __name__ == \"__main__\":\n",
        "    app.run(host=\"0.0.0.0\", port=5000)\n"
      ],
      "metadata": {
        "colab": {
          "base_uri": "https://localhost:8080/"
        },
        "id": "jYMPk8nZE00X",
        "outputId": "66408117-4c80-4622-c362-96bc15e71d5c"
      },
      "execution_count": 18,
      "outputs": [
        {
          "output_type": "stream",
          "name": "stdout",
          "text": [
            " * Serving Flask app '__main__'\n",
            " * Debug mode: off\n"
          ]
        },
        {
          "output_type": "stream",
          "name": "stderr",
          "text": [
            "INFO:werkzeug:\u001b[31m\u001b[1mWARNING: This is a development server. Do not use it in a production deployment. Use a production WSGI server instead.\u001b[0m\n",
            " * Running on all addresses (0.0.0.0)\n",
            " * Running on http://127.0.0.1:5000\n",
            " * Running on http://172.28.0.12:5000\n",
            "INFO:werkzeug:\u001b[33mPress CTRL+C to quit\u001b[0m\n"
          ]
        }
      ]
    },
    {
      "cell_type": "markdown",
      "source": [
        "Build the Docker Image"
      ],
      "metadata": {
        "id": "lV6XtM8wG23T"
      }
    },
    {
      "cell_type": "code",
      "source": [
        "docker build -t myapp ."
      ],
      "metadata": {
        "id": "BFgS3gegG_ID"
      },
      "execution_count": null,
      "outputs": []
    },
    {
      "cell_type": "markdown",
      "source": [
        "Run the Docker container:"
      ],
      "metadata": {
        "id": "vhMlZRMEG5bH"
      }
    },
    {
      "cell_type": "code",
      "source": [
        "docker run -p 5000:5000 myapp"
      ],
      "metadata": {
        "id": "k1sw_IUAGYPV"
      },
      "execution_count": null,
      "outputs": []
    }
  ]
}